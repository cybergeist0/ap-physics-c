{
 "cells": [
  {
   "cell_type": "markdown",
   "id": "c3729629-9e4a-4c08-9a9d-0c69f24ded6e",
   "metadata": {},
   "source": [
    "#  Unit 1: Kinematics\n",
    "\n",
    "This unit introduces **kinematics**, the study of motion without considering its causes. You'll learn how to describe and analyze motion in one and two dimensions using both **algebra** and **calculus**.\n",
    "\n",
    "---\n",
    "\n",
    "## Objectives\n",
    "- Describe motion in terms of **displacement**, **velocity**, and **acceleration**\n",
    "- Understand **1D** and **2D motion** (especially projectile motion)\n",
    "- Apply **derivatives and integrals** to motion\n",
    "- Use **parametric equations** to describe motion in 2D\n",
    "- Simulate and visualize motion using **Python**\n",
    "\n",
    "## Core Concepts\n",
    "\n",
    "### 1. Scalars vs. Vectors\n",
    "- **Scalars**: Magnitude only (e.g. speed, distance)\n",
    "- **Vectors**: Magnitude and direction (e.g. velocity, displacement, acceleration)\n",
    "\n",
    "---\n",
    "\n",
    "### 2. Definitions\n",
    "- **Displacement**: $\\Delta x = x - x_0$\n",
    "- **Average velocity**: $v_{\\text{avg}} = \\frac{\\Delta x}{\\Delta t}$\n",
    "- **Instantaneous velocity**: $v(t) = \\frac{dx}{dt}$\n",
    "- **Acceleration**: $a(t) = \\frac{dv}{dt} = \\frac{d^2x}{dt^2}$\n",
    "\n",
    "---\n",
    "\n",
    "### 3. Kinematic Equations (constant acceleration)\n",
    "- $x = x_0 + v_0 t + \\frac{1}{2} a t^2$\n",
    "- $v = v_0 + at$\n",
    "- $v^2 = v_0^2 + 2a(x - x_0)$\n",
    "\n",
    "---\n",
    "\n",
    "### 4. Projectile Motion (2D)\n",
    "- $x(t) = v_0 \\cos\\theta \\cdot t$\n",
    "- $y(t) = v_0 \\sin\\theta \\cdot t - \\frac{1}{2}gt^2$\n",
    "- Time of flight: $t = \\frac{2v_0 \\sin\\theta}{g}$\n",
    "- Max height: $h = \\frac{v_0^2 \\sin^2\\theta}{2g}$\n",
    "- Range: $R = \\frac{v_0^2 \\sin(2\\theta)}{g}$\n",
    "\n",
    "## Applying Calculus\n",
    "\n",
    "Starting with acceleration:\n",
    "\n",
    "$$\n",
    "a = \\frac{dv}{dt} \\Rightarrow v(t) = \\int a\\,dt = at + v_0\n",
    "$$\n",
    "\n",
    "Then position:\n",
    "\n",
    "$$\n",
    "x(t) = \\int v(t)\\,dt = \\int (at + v_0)\\,dt = \\frac{1}{2}at^2 + v_0 t + x_0\n",
    "$$\n",
    "\n",
    "---\n",
    "\n",
    "### Deriving $v^2 = v_0^2 + 2a(x - x_0)$\n",
    "\n",
    "Use the chain rule:\n",
    "\n",
    "$$\n",
    "a = \\frac{dv}{dt} = \\frac{dv}{dx} \\cdot \\frac{dx}{dt} = v \\frac{dv}{dx}\n",
    "$$\n",
    "\n",
    "Separate and integrate:\n",
    "\n",
    "$$\n",
    "a\\,dx = v\\,dv \\Rightarrow \\int a\\,dx = \\int v\\,dv\n",
    "\\Rightarrow a(x - x_0) = \\frac{1}{2}(v^2 - v_0^2)\n",
    "$$\n",
    "\n",
    "Solve for $v^2$:\n",
    "\n",
    "$$\n",
    "v^2 = v_0^2 + 2a(x - x_0)\n",
    "$$"
   ]
  },
  {
   "cell_type": "markdown",
   "id": "bc2145cb-dab7-4e20-bf9c-b00f10b3a09f",
   "metadata": {},
   "source": [
    "## Sample Problem 1: Free Fall\n",
    "\n",
    "> A ball is thrown straight up at 20 m/s. How long is it in the air?\n",
    "\n",
    "Use vertical motion and $v = v_0 - g t$.\n",
    "\n",
    "At top, $v = 0$:\n",
    "\n",
    "$$\n",
    "0 = 20 - 9.8t \\Rightarrow t_{\\text{up}} = \\frac{20}{9.8} \\approx 2.04\\ \\text{s}\n",
    "$$\n",
    "\n",
    "So:\n",
    "\n",
    "$$\n",
    "t_{\\text{total}} = 2 \\times t_{\\text{up}} = 4.08\\ \\text{s}\n",
    "$$\n"
   ]
  },
  {
   "cell_type": "code",
   "execution_count": 1,
   "id": "d8505666-8da6-4575-9037-a54e66338e79",
   "metadata": {},
   "outputs": [
    {
     "name": "stdout",
     "output_type": "stream",
     "text": [
      "Total time in air: 4.08 s\n"
     ]
    }
   ],
   "source": [
    "v0 = 20  # m/s\n",
    "g = 9.8  # m/s^2\n",
    "\n",
    "t_up = v0 / g\n",
    "t_total = 2 * t_up\n",
    "\n",
    "print(f\"Total time in air: {t_total:.2f} s\")"
   ]
  },
  {
   "cell_type": "markdown",
   "id": "ad88a390-705d-4397-b30a-29414dc525c6",
   "metadata": {},
   "source": [
    "## Sample Problem 2: Projectile Motion\n",
    "\n",
    "> A ball is launched at 30 m/s at a 60° angle. Find time of flight, range, and max height.\n",
    "\n",
    "Use:\n",
    "\n",
    "- $v_{0x} = v_0 \\cos\\theta$\n",
    "- $v_{0y} = v_0 \\sin\\theta$\n",
    "\n",
    "Then plug into:\n",
    "\n",
    "- $t = \\frac{2v_{0y}}{g}$\n",
    "- $R = v_{0x} \\cdot t$\n",
    "- $h = \\frac{v_{0y}^2}{2g}$"
   ]
  },
  {
   "cell_type": "code",
   "execution_count": 2,
   "id": "8b0163a5-c2e7-4039-b8cb-37e7278f764b",
   "metadata": {},
   "outputs": [
    {
     "name": "stdout",
     "output_type": "stream",
     "text": [
      "Time of flight: 5.30 s\n",
      "Range: 79.53 m\n",
      "Max height: 34.44 m\n"
     ]
    }
   ],
   "source": [
    "import numpy as np\n",
    "\n",
    "v0 = 30  # m/s\n",
    "theta_deg = 60\n",
    "theta = np.radians(theta_deg)\n",
    "g = 9.8  # m/s^2\n",
    "\n",
    "v0x = v0 * np.cos(theta)\n",
    "v0y = v0 * np.sin(theta)\n",
    "\n",
    "t_flight = 2 * v0y / g\n",
    "range_ = v0x * t_flight\n",
    "h_max = v0y**2 / (2 * g)\n",
    "\n",
    "print(f\"Time of flight: {t_flight:.2f} s\")\n",
    "print(f\"Range: {range_:.2f} m\")\n",
    "print(f\"Max height: {h_max:.2f} m\")"
   ]
  },
  {
   "cell_type": "markdown",
   "id": "ea515961-68ae-47a7-8684-a050b1a0e5cc",
   "metadata": {},
   "source": [
    "## Grapher\n",
    "\n",
    "Use the `projectile_motion_grapher.py` file to simulate and visualize:\n",
    "\n",
    "- $x(t),\\ y(t)$\n",
    "- $v_x(t),\\ v_y(t)$\n",
    "- $a_x(t),\\ a_y(t)$\n",
    "- Trajectory $x$ vs $y$\n",
    "\n",
    "Try adjusting velocity and angle to see how the motion changes."
   ]
  },
  {
   "cell_type": "code",
   "execution_count": 5,
   "id": "75f3e5dd-358e-4d87-be33-574bba2b46dc",
   "metadata": {},
   "outputs": [
    {
     "data": {
      "application/vnd.jupyter.widget-view+json": {
       "model_id": "9d4048c510dc45ff80ecedc75660fa17",
       "version_major": 2,
       "version_minor": 0
      },
      "text/plain": [
       "FloatText(value=30.0, description='v₀ (m/s):')"
      ]
     },
     "metadata": {},
     "output_type": "display_data"
    },
    {
     "data": {
      "application/vnd.jupyter.widget-view+json": {
       "model_id": "4f6affebc5b945b696acdcfcd00f3fbe",
       "version_major": 2,
       "version_minor": 0
      },
      "text/plain": [
       "FloatText(value=45.0, description='θ (deg):')"
      ]
     },
     "metadata": {},
     "output_type": "display_data"
    },
    {
     "data": {
      "application/vnd.jupyter.widget-view+json": {
       "model_id": "8fc3cb6f75004f829a777b8c82b2ef01",
       "version_major": 2,
       "version_minor": 0
      },
      "text/plain": [
       "Button(description='Run Simulation', style=ButtonStyle())"
      ]
     },
     "metadata": {},
     "output_type": "display_data"
    },
    {
     "data": {
      "application/vnd.jupyter.widget-view+json": {
       "model_id": "a899cc6446874c7093951905aa733e69",
       "version_major": 2,
       "version_minor": 0
      },
      "text/plain": [
       "Output()"
      ]
     },
     "metadata": {},
     "output_type": "display_data"
    }
   ],
   "source": [
    "import ipywidgets as widgets\n",
    "from IPython.display import display, clear_output\n",
    "from projectile_motion_grapher import simulate_projectile\n",
    "\n",
    "v0_input = widgets.FloatText(value=30, description='v₀ (m/s):')\n",
    "angle_input = widgets.FloatText(value=45, description='θ (deg):')\n",
    "submit_button = widgets.Button(description='Run Simulation')\n",
    "\n",
    "output = widgets.Output()\n",
    "\n",
    "def on_submit_clicked(b):\n",
    "    with output:\n",
    "        clear_output(wait=True)\n",
    "        simulate_projectile(v0=v0_input.value, angle_deg=angle_input.value)\n",
    "\n",
    "submit_button.on_click(on_submit_clicked)\n",
    "\n",
    "display(v0_input, angle_input, submit_button, output)"
   ]
  },
  {
   "cell_type": "markdown",
   "id": "c99c4370-4390-40b1-95ba-59e621881b6e",
   "metadata": {},
   "source": [
    "## Conclusion\n",
    "\n",
    "In this unit, we explored the fundamental concepts of kinematics, including displacement, velocity, and acceleration. We derived key equations using calculus and applied them to solve practical problems such as free fall and projectile motion. \n",
    "\n",
    "By simulating motion with Python and visualizing it interactively, we gained deeper insights into how objects move under constant acceleration, especially in two dimensions. This combination of physics, calculus, and programming sets a strong foundation for understanding more complex physical systems in later units."
   ]
  },
  {
   "cell_type": "code",
   "execution_count": null,
   "id": "3bdf260f-0e5d-4442-b232-9922cc53414b",
   "metadata": {},
   "outputs": [],
   "source": []
  }
 ],
 "metadata": {
  "kernelspec": {
   "display_name": "Python 3 (ipykernel)",
   "language": "python",
   "name": "python3"
  },
  "language_info": {
   "codemirror_mode": {
    "name": "ipython",
    "version": 3
   },
   "file_extension": ".py",
   "mimetype": "text/x-python",
   "name": "python",
   "nbconvert_exporter": "python",
   "pygments_lexer": "ipython3",
   "version": "3.13.5"
  }
 },
 "nbformat": 4,
 "nbformat_minor": 5
}
